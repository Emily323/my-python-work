{
 "cells": [
  {
   "cell_type": "code",
   "execution_count": 1,
   "metadata": {},
   "outputs": [],
   "source": [
    "%matplotlib inline\n",
    "\n",
    "import numpy as np\n",
    "import matplotlib.pyplot as plt"
   ]
  },
  {
   "cell_type": "markdown",
   "metadata": {},
   "source": [
    "## 猜數字遊戲"
   ]
  },
  {
   "cell_type": "code",
   "execution_count": 3,
   "metadata": {},
   "outputs": [
    {
     "name": "stdout",
     "output_type": "stream",
     "text": [
      ">>50\n",
      "lower\n",
      ">>30\n",
      "higher\n",
      ">>40\n",
      "lower\n",
      ">>35\n",
      "higher\n",
      ">>37\n",
      "lower\n",
      ">>36\n",
      "correct\n"
     ]
    }
   ],
   "source": [
    "import random\n",
    "pc=random.randint(1,101)\n",
    "message= \" \"\n",
    "message= int(input('>>'))\n",
    "while message!=pc:  \n",
    "    \n",
    " if message<pc:\n",
    "  print('higher')\n",
    "  message= int(input('>>'))\n",
    "    \n",
    " elif message>pc:\n",
    "  print('lower')\n",
    "  message= int(input('>>'))   \n",
    " \n",
    "print('correct')"
   ]
  },
  {
   "cell_type": "markdown",
   "metadata": {},
   "source": [
    "### 感恩讚嘆機器人"
   ]
  },
  {
   "cell_type": "code",
   "execution_count": 6,
   "metadata": {},
   "outputs": [
    {
     "name": "stdout",
     "output_type": "stream",
     "text": [
      "OAO>>hi\n",
      "感恩鍋懂，讚嘆鍋懂!!!\n",
      "OAO>>今天天氣真好\n",
      "感恩英文，讚嘆英文!!!\n",
      "OAO>>蘋果好吃\n",
      "感恩炎龍，讚嘆炎龍!!!\n",
      "OAO>>我在洗衣服\n",
      "感恩炎龍，讚嘆炎龍!!!\n",
      "OAO>>掰掰\n",
      "bye bye\n"
     ]
    }
   ],
   "source": [
    "import random\n",
    "\n",
    "b=['國魚','英文','鍋懂','seafood','炎龍']\n",
    "\n",
    "a=input(\"OAO>>\")\n",
    "while ((a!='bye bye') and (a!='掰掰')):\n",
    "    name=random.choice(b)\n",
    "    print(\"感恩{}，讚嘆{}!!!\".format(name,name)) \n",
    "    a=input(\"OAO>>\")\n",
    "\n",
    "print(\"bye bye\") \n",
    "    "
   ]
  },
  {
   "cell_type": "code",
   "execution_count": null,
   "metadata": {},
   "outputs": [],
   "source": [
    "def 倒過來 (x):\n",
    "    reverse\n",
    " "
   ]
  },
  {
   "cell_type": "code",
   "execution_count": null,
   "metadata": {},
   "outputs": [],
   "source": [
    "s=0\n",
    "\n",
    "def(x):\n",
    "    print(**s)\n",
    "    s=s+1"
   ]
  },
  {
   "cell_type": "code",
   "execution_count": 25,
   "metadata": {},
   "outputs": [
    {
     "name": "stdout",
     "output_type": "stream",
     "text": [
      "多拉A夢未來在指南路二段唱我是孩子王\n"
     ]
    }
   ],
   "source": [
    "import random\n",
    "\n",
    "a=['你','我','他','大雄','靜香','多拉A夢','小夫','胖虎']\n",
    "b=['前天','今天','昨天','未來','公元前200年','佛陀降世那年','世界末日之際']\n",
    "c=['政大水樂園','綜院南棟五樓','政大帝寶','棄嫌樓','蔣公銅像下','指南路二段',]\n",
    "d=['欺負大雄','唱我是孩子王','吃銅鑼燒','使用時光機','躲胖虎','練習文化盃','成佛']\n",
    "\n",
    "who=random.choice(a) \n",
    "time=random.choice(b) \n",
    "place=random.choice(c)\n",
    "what=random.choice(d)\n",
    "\n",
    "print(\"{}{}在{}{}\".format(who,time,place,what))"
   ]
  },
  {
   "cell_type": "markdown",
   "metadata": {},
   "source": [
    "### 定冠詞"
   ]
  },
  {
   "cell_type": "code",
   "execution_count": 2,
   "metadata": {},
   "outputs": [],
   "source": [
    "a=['陽性','陰性','中性']\n",
    "b=['Dative','Akkusativ','Nominativ']\n",
    "c=['單數','複數']\n",
    "\n",
    "import random\n",
    "\n",
    "random.choice(a),random.choice(b),random.choice(c)\n",
    "if\n",
    "    \n"
   ]
  },
  {
   "cell_type": "code",
   "execution_count": 5,
   "metadata": {},
   "outputs": [
    {
     "data": {
      "text/plain": [
       "'陽性'"
      ]
     },
     "execution_count": 5,
     "metadata": {},
     "output_type": "execute_result"
    }
   ],
   "source": []
  },
  {
   "cell_type": "code",
   "execution_count": null,
   "metadata": {},
   "outputs": [],
   "source": []
  }
 ],
 "metadata": {
  "kernelspec": {
   "display_name": "Python 3",
   "language": "python",
   "name": "python3"
  },
  "language_info": {
   "codemirror_mode": {
    "name": "ipython",
    "version": 3
   },
   "file_extension": ".py",
   "mimetype": "text/x-python",
   "name": "python",
   "nbconvert_exporter": "python",
   "pygments_lexer": "ipython3",
   "version": "3.7.3"
  }
 },
 "nbformat": 4,
 "nbformat_minor": 2
}
