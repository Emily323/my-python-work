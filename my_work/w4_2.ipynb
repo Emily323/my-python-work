{
 "cells": [
  {
   "cell_type": "markdown",
   "metadata": {},
   "source": [
    "### work2 限制次數的猜數字"
   ]
  },
  {
   "cell_type": "code",
   "execution_count": 1,
   "metadata": {},
   "outputs": [
    {
     "name": "stdout",
     "output_type": "stream",
     "text": [
      ">>56\n",
      "lower\n",
      ">>43\n",
      "lower\n",
      ">>22\n",
      "higher\n",
      ">>33\n",
      "higher\n",
      ">>34\n",
      "game over\n"
     ]
    }
   ],
   "source": [
    "import random\n",
    "pc=random.randint(1,101)\n",
    "message= \" \"\n",
    "message= int(input('>>'))\n",
    "chance=5\n",
    "\n",
    "while chance!=1: \n",
    "\n",
    "  if message<pc:\n",
    "   print('higher')\n",
    "   message= int(input('>>'))\n",
    "   chance=chance-1\n",
    "\n",
    "  elif message>pc:\n",
    "   print('lower')\n",
    "   message= int(input('>>'))   \n",
    "   chance=chance-1\n",
    "\n",
    "  elif message==pc:\n",
    "   print('correct')\n",
    "   break\n",
    "\n",
    "else:\n",
    "   print('game over') "
   ]
  }
 ],
 "metadata": {
  "kernelspec": {
   "display_name": "Python 3",
   "language": "python",
   "name": "python3"
  },
  "language_info": {
   "codemirror_mode": {
    "name": "ipython",
    "version": 3
   },
   "file_extension": ".py",
   "mimetype": "text/x-python",
   "name": "python",
   "nbconvert_exporter": "python",
   "pygments_lexer": "ipython3",
   "version": "3.7.3"
  }
 },
 "nbformat": 4,
 "nbformat_minor": 2
}
