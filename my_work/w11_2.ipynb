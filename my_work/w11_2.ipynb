{
 "cells": [
  {
   "cell_type": "code",
   "execution_count": 4,
   "metadata": {},
   "outputs": [],
   "source": [
    "### Bubble Sort\n",
    "%matplotlib inline\n",
    "\n",
    "import numpy as np\n",
    "import matplotlib.pyplot as plt\n",
    "import pandas as pd\n"
   ]
  },
  {
   "cell_type": "code",
   "execution_count": 5,
   "metadata": {},
   "outputs": [
    {
     "name": "stdout",
     "output_type": "stream",
     "text": [
      "[30 46 39 31 38]\n",
      "[30 39 46 31 38]\n",
      "[30 31 46 39 38]\n",
      "[30 31 39 46 38]\n",
      "[30 31 38 46 39]\n",
      "[30 31 38 39 46]\n"
     ]
    }
   ],
   "source": [
    "scores=np.random.randint(1,50,size=5)\n",
    "\n",
    "for i in range(len(scores)):\n",
    "    for j in range(len(scores)):\n",
    "         if scores[i]<scores[j]:\n",
    "            scores[i],scores[j]=scores[j],scores[i]\n",
    "            print(scores)  "
   ]
  }
 ],
 "metadata": {
  "kernelspec": {
   "display_name": "Python 3",
   "language": "python",
   "name": "python3"
  },
  "language_info": {
   "codemirror_mode": {
    "name": "ipython",
    "version": 3
   },
   "file_extension": ".py",
   "mimetype": "text/x-python",
   "name": "python",
   "nbconvert_exporter": "python",
   "pygments_lexer": "ipython3",
   "version": "3.7.3"
  }
 },
 "nbformat": 4,
 "nbformat_minor": 2
}
