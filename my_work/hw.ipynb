{
 "cells": [
  {
   "cell_type": "markdown",
   "metadata": {},
   "source": [
    "### work1 畫一棵樹"
   ]
  },
  {
   "cell_type": "code",
   "execution_count": null,
   "metadata": {},
   "outputs": [],
   "source": [
    "def tree(x):\n",
    "    for i in range(1,(x+1)):\n",
    "        print(\" \"*(x-i)+\"*\"*(2*i-1) )"
   ]
  },
  {
   "cell_type": "markdown",
   "metadata": {},
   "source": [
    "### work2 限制次數的猜數字"
   ]
  },
  {
   "cell_type": "code",
   "execution_count": 2,
   "metadata": {},
   "outputs": [
    {
     "name": "stdout",
     "output_type": "stream",
     "text": [
      ">>45\n",
      "lower\n",
      ">>34\n",
      "higher\n",
      ">>23\n",
      "higher\n",
      ">>36\n",
      "higher\n",
      ">>44\n",
      "game over\n"
     ]
    }
   ],
   "source": [
    "import random\n",
    "pc=random.randint(1,101)\n",
    "message= \" \"\n",
    "message= int(input('>>'))\n",
    "chance=5\n",
    "\n",
    "while chance!=1: \n",
    "\n",
    "  if message<pc:\n",
    "   print('higher')\n",
    "   message= int(input('>>'))\n",
    "   chance=chance-1\n",
    "\n",
    "  elif message>pc:\n",
    "   print('lower')\n",
    "   message= int(input('>>'))   \n",
    "   chance=chance-1\n",
    "\n",
    "  elif message==pc:\n",
    "   print('correct')\n",
    "   break\n",
    "\n",
    "else:\n",
    "   print('game over')  "
   ]
  },
  {
   "cell_type": "markdown",
   "metadata": {},
   "source": [
    "### work3 把句子到過來"
   ]
  },
  {
   "cell_type": "code",
   "execution_count": 3,
   "metadata": {},
   "outputs": [],
   "source": [
    "def b(x):\n",
    "  l=list(x)\n",
    "  l.reverse()\n",
    "  print(\" \".join(l))"
   ]
  },
  {
   "cell_type": "code",
   "execution_count": 4,
   "metadata": {},
   "outputs": [
    {
     "name": "stdout",
     "output_type": "stream",
     "text": [
      "上 海 自 來 水 來 自 海 上\n"
     ]
    }
   ],
   "source": [
    "b('上海自來水來自海上')"
   ]
  },
  {
   "cell_type": "code",
   "execution_count": null,
   "metadata": {},
   "outputs": [],
   "source": []
  }
 ],
 "metadata": {
  "kernelspec": {
   "display_name": "Python 3",
   "language": "python",
   "name": "python3"
  },
  "language_info": {
   "codemirror_mode": {
    "name": "ipython",
    "version": 3
   },
   "file_extension": ".py",
   "mimetype": "text/x-python",
   "name": "python",
   "nbconvert_exporter": "python",
   "pygments_lexer": "ipython3",
   "version": "3.7.3"
  }
 },
 "nbformat": 4,
 "nbformat_minor": 2
}
