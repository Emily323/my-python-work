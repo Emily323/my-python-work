{
 "cells": [
  {
   "cell_type": "code",
   "execution_count": 3,
   "metadata": {},
   "outputs": [],
   "source": [
    "%matplotlib inline\n",
    "import numpy as np\n",
    "import matplotlib.pyplot as plt\n",
    "from ipywidgets import interact\n"
   ]
  },
  {
   "cell_type": "code",
   "execution_count": 4,
   "metadata": {},
   "outputs": [
    {
     "name": "stdout",
     "output_type": "stream",
     "text": [
      "請輸入運動時間:60\n"
     ]
    },
    {
     "data": {
      "application/vnd.jupyter.widget-view+json": {
       "model_id": "f9b1eed45b7f4159b66a91583e4135ad",
       "version_major": 2,
       "version_minor": 0
      },
      "text/plain": [
       "interactive(children=(Dropdown(description='exercise', options=('跑步', '健走', '走路', '游泳', '腳踏車'), value='跑步'), O…"
      ]
     },
     "metadata": {},
     "output_type": "display_data"
    },
    {
     "data": {
      "text/plain": [
       "<function __main__.g(exercise)>"
      ]
     },
     "execution_count": 4,
     "metadata": {},
     "output_type": "execute_result"
    }
   ],
   "source": [
    "a=['跑步','健走','走路','游泳','腳踏車']\n",
    "t=0\n",
    "t=int(input(\"請輸入運動時間:\"))\n",
    "\n",
    "def g(exercise):\n",
    "    \n",
    "    if exercise==a[0]:\n",
    "        kcal=t*8.6\n",
    "    if exercise==a[1]:\n",
    "        kcal=t*4\n",
    "    if exercise==a[2]:\n",
    "        kcal=t*2    \n",
    "    if exercise==a[3]: \n",
    "        kcal=t*16\n",
    "    if exercise==a[4]:\n",
    "        kcal=t*4.6\n",
    "    print('一共消耗{}kcal'.format(kcal))   \n",
    "    \n",
    "    \n",
    "interact(g,exercise=['跑步','健走','走路','游泳','腳踏車']) \n",
    "\n"
   ]
  },
  {
   "cell_type": "code",
   "execution_count": null,
   "metadata": {},
   "outputs": [],
   "source": []
  }
 ],
 "metadata": {
  "kernelspec": {
   "display_name": "Python 3",
   "language": "python",
   "name": "python3"
  },
  "language_info": {
   "codemirror_mode": {
    "name": "ipython",
    "version": 3
   },
   "file_extension": ".py",
   "mimetype": "text/x-python",
   "name": "python",
   "nbconvert_exporter": "python",
   "pygments_lexer": "ipython3",
   "version": "3.7.3"
  }
 },
 "nbformat": 4,
 "nbformat_minor": 2
}
