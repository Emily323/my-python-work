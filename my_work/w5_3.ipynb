{
 "cells": [
  {
   "cell_type": "code",
   "execution_count": 2,
   "metadata": {},
   "outputs": [],
   "source": [
    "%matplotlib inline\n",
    "import numpy as np\n",
    "import matplotlib.pyplot as plt"
   ]
  },
  {
   "cell_type": "markdown",
   "metadata": {},
   "source": [
    "### 班上有40位學生，學期結束後，老師希望知道班上的期末成績相關資訊，作為下個學期教學的參考。\n",
    " \n",
    "#請隨機產生40筆0~100的數字作為向日葵班的成績分佈，接著列出最高分、最低分、及格人數(>=60)、平均數、標準差，並且以10分作為一個區間，使用圖表畫出各個區間的人數。"
   ]
  },
  {
   "cell_type": "code",
   "execution_count": 3,
   "metadata": {},
   "outputs": [
    {
     "name": "stdout",
     "output_type": "stream",
     "text": [
      "最高分 97\n",
      "最低分 0\n",
      "及格人數 16\n",
      "平均數 50.05\n",
      "標準差 26.73195653146249\n"
     ]
    }
   ],
   "source": [
    "grades=np.random.randint(101,size=40)\n",
    "print('最高分',max(grades))\n",
    "print('最低分',min(grades))\n",
    "print('及格人數',np.sum(grades>=60))\n",
    "print('平均數',np.average(grades))\n",
    "print('標準差',np.std(grades))"
   ]
  },
  {
   "cell_type": "code",
   "execution_count": 4,
   "metadata": {},
   "outputs": [
    {
     "data": {
      "image/png": "[encoded data removed]",
      "text/plain": [
       "<Figure size 432x288 with 1 Axes>"
      ]
     },
     "metadata": {
      "needs_background": "light"
     },
     "output_type": "display_data"
    }
   ],
   "source": [
    "x=np.linspace(0,100,10)\n",
    "y=grades\n",
    "\n",
    "plt.hist(y)\n",
    "plt.show()"
   ]
  },
  {
   "cell_type": "code",
   "execution_count": null,
   "metadata": {},
   "outputs": [],
   "source": []
  }
 ],
 "metadata": {
  "kernelspec": {
   "display_name": "Python 3",
   "language": "python",
   "name": "python3"
  },
  "language_info": {
   "codemirror_mode": {
    "name": "ipython",
    "version": 3
   },
   "file_extension": ".py",
   "mimetype": "text/x-python",
   "name": "python",
   "nbconvert_exporter": "python",
   "pygments_lexer": "ipython3",
   "version": "3.7.3"
  }
 },
 "nbformat": 4,
 "nbformat_minor": 2
}
