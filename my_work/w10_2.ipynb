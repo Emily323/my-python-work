{
 "cells": [
  {
   "cell_type": "code",
   "execution_count": 1,
   "metadata": {},
   "outputs": [],
   "source": [
    "%matplotlib inline\n",
    "\n",
    "import numpy as np\n",
    "import matplotlib.pyplot as plt\n",
    "import pandas as pd"
   ]
  },
  {
   "cell_type": "markdown",
   "metadata": {},
   "source": [
    "### 產生兩個矩陣然後相加"
   ]
  },
  {
   "cell_type": "code",
   "execution_count": 2,
   "metadata": {},
   "outputs": [],
   "source": [
    "m1=np.random.randint(1,20,size=(5,5))\n",
    "m2=np.random.randint(1,20,size=(5,5))\n",
    "\n",
    "def matrix_plus(m1,m2):\n",
    "    print(m1)\n",
    "    print(m2)\n",
    "    print('相加:' )\n",
    "    print(m1+m2)"
   ]
  },
  {
   "cell_type": "code",
   "execution_count": 3,
   "metadata": {},
   "outputs": [
    {
     "name": "stdout",
     "output_type": "stream",
     "text": [
      "[[15  4  1 13 12]\n",
      " [ 8  6  7 12 12]\n",
      " [16  6  9 16  8]\n",
      " [ 7 16 19  3 15]\n",
      " [ 9 18 13 18 15]]\n",
      "[[17  5  8 14 10]\n",
      " [14 18  4 12 12]\n",
      " [ 3 12 19  7  2]\n",
      " [ 8 11  5 11  1]\n",
      " [11 13 11 12  9]]\n",
      "相加:\n",
      "[[32  9  9 27 22]\n",
      " [22 24 11 24 24]\n",
      " [19 18 28 23 10]\n",
      " [15 27 24 14 16]\n",
      " [20 31 24 30 24]]\n"
     ]
    }
   ],
   "source": [
    "matrix_plus(m1,m2)"
   ]
  },
  {
   "cell_type": "code",
   "execution_count": null,
   "metadata": {},
   "outputs": [],
   "source": []
  }
 ],
 "metadata": {
  "kernelspec": {
   "display_name": "Python 3",
   "language": "python",
   "name": "python3"
  },
  "language_info": {
   "codemirror_mode": {
    "name": "ipython",
    "version": 3
   },
   "file_extension": ".py",
   "mimetype": "text/x-python",
   "name": "python",
   "nbconvert_exporter": "python",
   "pygments_lexer": "ipython3",
   "version": "3.7.3"
  }
 },
 "nbformat": 4,
 "nbformat_minor": 2
}
