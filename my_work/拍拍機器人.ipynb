{
 "cells": [
  {
   "cell_type": "code",
   "execution_count": 18,
   "metadata": {},
   "outputs": [],
   "source": [
    "%matplotlib inline\n",
    "\n",
    "import numpy as np\n",
    "import matplotlib.pyplot as plt\n",
    "from ipywidgets import interact\n",
    "import random\n",
    "from ipywidgets import interact"
   ]
  },
  {
   "cell_type": "code",
   "execution_count": 1,
   "metadata": {
    "scrolled": true
   },
   "outputs": [
    {
     "name": "stdout",
     "output_type": "stream",
     "text": [
      "( ･ω･)ﾉhi\n",
      "皮卡丘>>pika pika\n",
      "( ･ω･)ﾉhallo\n",
      "皮卡丘>>pika pika\n",
      "( ･ω･)ﾉ你好\n",
      "皮卡丘>>pika pika\n",
      "( ･ω･)ﾉ好煩\n",
      "皮卡丘>>pikachu\n",
      "( ･ω･)ﾉ還會說什麼嗎\n",
      "皮卡丘>>pika~~~chu\n",
      "( ･ω･)ﾉbye bye\n",
      "皮卡丘>>pika pika\n"
     ]
    }
   ],
   "source": [
    "msg=\" \"\n",
    "while (msg!=\"bye bye\"):\n",
    "    msg=input(\"( ･ω･)ﾉ\")\n",
    "    \n",
    "    if \"好煩\" in msg:\n",
    "        print(\"皮卡丘>>pikachu\")\n",
    "    \n",
    "    elif \"還會說什麼嗎\" in msg:\n",
    "        print(\"皮卡丘>>pika~~~chu\")\n",
    "    \n",
    "    else:\n",
    "        print(\"皮卡丘>>pika pika\")"
   ]
  },
  {
   "cell_type": "code",
   "execution_count": 54,
   "metadata": {},
   "outputs": [],
   "source": [
    "pc= random.choice ( [2, 5, 0] )"
   ]
  },
  {
   "cell_type": "code",
   "execution_count": 4,
   "metadata": {},
   "outputs": [
    {
     "ename": "NameError",
     "evalue": "name 'pc' is not defined",
     "output_type": "error",
     "traceback": [
      "\u001b[1;31m---------------------------------------------------------------------------\u001b[0m",
      "\u001b[1;31mNameError\u001b[0m                                 Traceback (most recent call last)",
      "\u001b[1;32m<ipython-input-4-a1bc669da51e>\u001b[0m in \u001b[0;36m<module>\u001b[1;34m\u001b[0m\n\u001b[1;32m----> 1\u001b[1;33m \u001b[0mpc\u001b[0m\u001b[1;33m\u001b[0m\u001b[1;33m\u001b[0m\u001b[0m\n\u001b[0m",
      "\u001b[1;31mNameError\u001b[0m: name 'pc' is not defined"
     ]
    }
   ],
   "source": [
    "pc"
   ]
  },
  {
   "cell_type": "code",
   "execution_count": 2,
   "metadata": {},
   "outputs": [
    {
     "name": "stdout",
     "output_type": "stream",
     "text": [
      "選擇 1.棒 2.老虎 3.雞 4.蟲2\n",
      "pc:老虎\n",
      "兩隻老虎兩隻老虎 跑得快跑得快\n"
     ]
    }
   ],
   "source": [
    "import random\n",
    "player = int(input('選擇 1.棒 2.老虎 3.雞 4.蟲'))\n",
    "pc= random.choice ( [1, 2, 3, 4] ) \n",
    "if player ==1:\n",
    "    if pc==1:\n",
    "     print(\"pc:棒\\n來跟PC相打\")\n",
    "    if pc==2:\n",
    "     print(\"pc:老虎\\n你把PC打暈了\")\n",
    "    if pc == 3:\n",
    "     print(\"pc:雞\\n相安無事 天下太平\")\n",
    "    if pc == 4:\n",
    "     print(\"pc:蟲\\n你輸了...蟲把棒子吃掉了QAQ\")\n",
    "\n",
    "elif player ==2:\n",
    "    if pc==1:\n",
    "     print(\"pc:棒\\n什麼事都沒發生...\")\n",
    "    if pc==2:\n",
    "     print(\"pc:老虎\\n兩隻老虎兩隻老虎 跑得快跑得快\")\n",
    "    if pc == 3:\n",
    "     print(\"pc:雞\\贏了 請吃雞\")\n",
    "    if pc == 4:\n",
    "     print(\"pc:蟲\\n蟲蟲在哪裡\")\n",
    "\n",
    "elif player ==3:\n",
    "    if pc==1:\n",
    "     print(\"pc:棒\\n什麼事都沒發生...\")\n",
    "    if pc==2:\n",
    "     print(\"pc:老虎\\nPC在吃雞 w(ﾟДﾟ)w\")\n",
    "    if pc == 3:\n",
    "     print(\"pc:雞\\n咕咕雞\")\n",
    "    if pc == 4:\n",
    "     print(\"pc:蟲\\n好吃ㄇ\")\n",
    "    \n",
    "    \n",
    "elif player ==4:\n",
    "    if pc==1:\n",
    "     print(\"pc:棒\\n棒棒 ヾ(￣▽￣)撒優哪啦~\")\n",
    "    if pc==2:\n",
    "     print(\"pc:老虎\\nnothing happens\")\n",
    "    if pc == 3:\n",
    "     print(\"pc:雞\\n快跑!!雞來了!!\")\n",
    "    if pc == 4:\n",
    "     print(\"pc:蟲\\n天下蟲蟲都是一樣滴~喔~\")"
   ]
  },
  {
   "cell_type": "code",
   "execution_count": null,
   "metadata": {},
   "outputs": [],
   "source": []
  }
 ],
 "metadata": {
  "kernelspec": {
   "display_name": "Python 3",
   "language": "python",
   "name": "python3"
  },
  "language_info": {
   "codemirror_mode": {
    "name": "ipython",
    "version": 3
   },
   "file_extension": ".py",
   "mimetype": "text/x-python",
   "name": "python",
   "nbconvert_exporter": "python",
   "pygments_lexer": "ipython3",
   "version": "3.7.3"
  }
 },
 "nbformat": 4,
 "nbformat_minor": 2
}
