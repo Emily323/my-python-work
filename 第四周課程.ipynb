{
 "cells": [
  {
   "cell_type": "code",
   "execution_count": 1,
   "metadata": {},
   "outputs": [],
   "source": [
    "%matplotlib inline\n",
    "\n",
    "import numpy as np\n",
    "import matplotlib.pyplot as plt\n",
    "import pandas as pd"
   ]
  },
  {
   "cell_type": "code",
   "execution_count": 36,
   "metadata": {},
   "outputs": [],
   "source": [
    "from numpy.random import randint"
   ]
  },
  {
   "cell_type": "code",
   "execution_count": 37,
   "metadata": {},
   "outputs": [
    {
     "name": "stdout",
     "output_type": "stream",
     "text": [
      "5,9,9,9,9,2,6,3,9,3,1,1,5,2,3,9,1,2,7,5,2,6,6,7,2,2,5,8,9,2,2,7,3,1,8,3,6,8,8,4,9,8,1,4,5,9,7,5,4,3,"
     ]
    }
   ],
   "source": [
    "for i in range(50):\n",
    "    print(randint(1,10),end=',')"
   ]
  },
  {
   "cell_type": "code",
   "execution_count": 38,
   "metadata": {},
   "outputs": [],
   "source": [
    "words='''\n",
    "你\n",
    "我\n",
    "他\n",
    "愛\n",
    "心\n",
    "鑰匙\n",
    "橋上\n",
    "秋天\n",
    "冬天\n",
    "相遇\n",
    "分離\n",
    "牽手'''"
   ]
  },
  {
   "cell_type": "code",
   "execution_count": 39,
   "metadata": {},
   "outputs": [
    {
     "data": {
      "text/plain": [
       "'\\n你\\n我\\n他\\n愛\\n心\\n鑰匙\\n橋上\\n秋天\\n冬天\\n相遇\\n分離\\n牽手'"
      ]
     },
     "execution_count": 39,
     "metadata": {},
     "output_type": "execute_result"
    }
   ],
   "source": [
    "words"
   ]
  },
  {
   "cell_type": "code",
   "execution_count": 40,
   "metadata": {},
   "outputs": [],
   "source": [
    "phrase=words.split('\\n')"
   ]
  },
  {
   "cell_type": "code",
   "execution_count": 41,
   "metadata": {},
   "outputs": [
    {
     "name": "stdout",
     "output_type": "stream",
     "text": [
      "*\n",
      "*\n",
      "*\n",
      "*\n",
      "*\n"
     ]
    }
   ],
   "source": [
    "l=randint(3,6)\n",
    "for i in range(l):\n",
    "    print(\"*\")"
   ]
  },
  {
   "cell_type": "code",
   "execution_count": 47,
   "metadata": {},
   "outputs": [],
   "source": [
    "from numpy.random import choice \n",
    "ll=randint(4,8)\n",
    "\n",
    "poem=choice(phrase,ll)"
   ]
  },
  {
   "cell_type": "code",
   "execution_count": 48,
   "metadata": {},
   "outputs": [
    {
     "data": {
      "text/plain": [
       "' 分離 橋上 你'"
      ]
     },
     "execution_count": 48,
     "metadata": {},
     "output_type": "execute_result"
    }
   ],
   "source": [
    "' '.join(poem)"
   ]
  },
  {
   "cell_type": "code",
   "execution_count": 50,
   "metadata": {},
   "outputs": [
    {
     "name": "stdout",
     "output_type": "stream",
     "text": [
      "愛 他 牽手 冬天\n",
      "我 愛 分離 他 秋天 牽手\n",
      "相遇 橋上  心\n"
     ]
    }
   ],
   "source": [
    "l=randint(3,6)\n",
    "for i in range(l):\n",
    "    ll=randint(4,8)\n",
    "    egg=choice(phrase,ll)\n",
    "    poem=' '.join(egg)\n",
    "    print(poem)\n",
    "    "
   ]
  },
  {
   "cell_type": "code",
   "execution_count": 52,
   "metadata": {},
   "outputs": [
    {
     "name": "stdout",
     "output_type": "stream",
     "text": [
      "File `poem.py` exists. Overwrite (y/[N])?  y\n",
      "The following commands were written to file `poem.py`:\n",
      "from numpy.random import randint\n",
      "words='''\n",
      "你\n",
      "我\n",
      "他\n",
      "愛\n",
      "心\n",
      "鑰匙\n",
      "橋上\n",
      "秋天\n",
      "冬天\n",
      "相遇\n",
      "分離\n",
      "牽手'''\n",
      "phrase=words.split('\\n')\n",
      "from numpy.random import choice \n",
      "ll=randint(4,8)\n",
      "\n",
      "poem=choice(phrase,ll)\n",
      "l=randint(3,6)\n",
      "for i in range(l):\n",
      "    ll=randint(4,8)\n",
      "    egg=choice(phrase,ll)\n",
      "    poem=' '.join(egg)\n",
      "    print(poem)\n",
      "    \n"
     ]
    }
   ],
   "source": [
    "%save \"poem.py\" 36 38 40 47 50"
   ]
  },
  {
   "cell_type": "code",
   "execution_count": null,
   "metadata": {},
   "outputs": [],
   "source": []
  }
 ],
 "metadata": {
  "kernelspec": {
   "display_name": "Python 3",
   "language": "python",
   "name": "python3"
  },
  "language_info": {
   "codemirror_mode": {
    "name": "ipython",
    "version": 3
   },
   "file_extension": ".py",
   "mimetype": "text/x-python",
   "name": "python",
   "nbconvert_exporter": "python",
   "pygments_lexer": "ipython3",
   "version": "3.7.3"
  }
 },
 "nbformat": 4,
 "nbformat_minor": 2
}
