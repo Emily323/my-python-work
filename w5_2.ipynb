{
 "cells": [
  {
   "cell_type": "code",
   "execution_count": 1,
   "metadata": {},
   "outputs": [],
   "source": [
    "%matplotlib inline\n",
    "import numpy as np\n",
    "import matplotlib.pyplot as plt"
   ]
  },
  {
   "cell_type": "markdown",
   "metadata": {},
   "source": [
    "### 有A,B,C三個班級，每班皆有10個學生，期中考結束後，老師希望計算各班級每位學生的加權平均成績。\n",
    " \n",
    "#請隨機產生3個班級的成績單,每班10人,共五科,權重為weights=[0.25,0.25,0.25,0.15,0.10]。\n",
    "請算出班級加權平均成績，並以一個array輸出。"
   ]
  },
  {
   "cell_type": "code",
   "execution_count": 2,
   "metadata": {},
   "outputs": [
    {
     "name": "stdout",
     "output_type": "stream",
     "text": [
      "class_A\n",
      " [[82 49 19 55 88]\n",
      " [ 9 63 40 76 30]\n",
      " [11 96 29 63 83]\n",
      " [96 78 50 79 82]\n",
      " [45 47 89  9 17]\n",
      " [52  0 60 57  0]\n",
      " [93 66 28 78 32]\n",
      " [46 78  1 15 27]\n",
      " [11  2 50  4 76]\n",
      " [88 43 93  4 84]]\n",
      "class_B\n",
      " [[88 26 99 92 75]\n",
      " [52 39 70 90 54]\n",
      " [41 13 13 32 56]\n",
      " [45 95 16 59  3]\n",
      " [ 3 75 31  2 62]\n",
      " [33 37 44  8 97]\n",
      " [87 23 61 27 62]\n",
      " [11 69 79 99 55]\n",
      " [16 96 58 55 10]\n",
      " [83 92 16 46 66]]\n",
      "class_C\n",
      " [[ 47  74  50  85  85]\n",
      " [ 79  47  65  74  41]\n",
      " [ 79  18  10 100  13]\n",
      " [  1   2  73   7  52]\n",
      " [ 67  48  49  98  27]\n",
      " [ 72  76  68  79  51]\n",
      " [ 33  38  38  64  19]\n",
      " [ 80  24  31  49  89]\n",
      " [ 33  55  21  40  40]\n",
      " [ 89  85  46  37  58]]\n"
     ]
    }
   ],
   "source": [
    "A=np.random.randint(101,size=(10,5))\n",
    "B=np.random.randint(101,size=(10,5))\n",
    "C=np.random.randint(101,size=(10,5))\n",
    "\n",
    "print('class_A\\n',A)\n",
    "print('class_B\\n',B)\n",
    "print('class_C\\n',C)"
   ]
  },
  {
   "cell_type": "code",
   "execution_count": 3,
   "metadata": {},
   "outputs": [],
   "source": [
    "weights=np.array([0.25,0.25,0.25,0.15,0.10])"
   ]
  },
  {
   "cell_type": "code",
   "execution_count": 4,
   "metadata": {},
   "outputs": [
    {
     "name": "stdout",
     "output_type": "stream",
     "text": [
      "A班平均: [54.55 42.4  51.75 76.05 48.3  36.55 61.65 36.2  23.95 65.  ]\n",
      "B班平均: [74.55 59.15 27.15 48.15 33.75 39.4  53.   60.1  51.75 61.25]\n",
      "C班平均: [64.   62.95 43.05 25.25 58.4  70.95 38.75 50.   37.25 66.35]\n"
     ]
    }
   ],
   "source": [
    "A1=np.dot(A,weights)\n",
    "B1=np.dot(B,weights)\n",
    "C1=np.dot(C,weights)\n",
    "\n",
    "print(\"A班平均:\",A1)\n",
    "print(\"B班平均:\",B1)\n",
    "print(\"C班平均:\",C1)"
   ]
  },
  {
   "cell_type": "code",
   "execution_count": null,
   "metadata": {},
   "outputs": [],
   "source": []
  }
 ],
 "metadata": {
  "kernelspec": {
   "display_name": "Python 3",
   "language": "python",
   "name": "python3"
  },
  "language_info": {
   "codemirror_mode": {
    "name": "ipython",
    "version": 3
   },
   "file_extension": ".py",
   "mimetype": "text/x-python",
   "name": "python",
   "nbconvert_exporter": "python",
   "pygments_lexer": "ipython3",
   "version": "3.7.3"
  }
 },
 "nbformat": 4,
 "nbformat_minor": 2
}
